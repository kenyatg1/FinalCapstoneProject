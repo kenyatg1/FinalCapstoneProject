{
 "cells": [
  {
   "cell_type": "code",
   "execution_count": null,
   "id": "badcea12-3178-4162-9a83-fed805cebd38",
   "metadata": {},
   "outputs": [],
   "source": [
    "#Successfully create a SparkSession() object (1 Point)\n",
    "from pyspark.sql import SparkSession\n",
    "\n",
    "spark = SparkSession.builder \\\n",
    "    .appName(\"RealEstateSalesAnalysis\") \\\n",
    "    .getOrCreate()"
   ]
  },
  {
   "cell_type": "code",
   "execution_count": null,
   "id": "2975eb51-1f91-4915-bde0-ace2534c95d2",
   "metadata": {},
   "outputs": [],
   "source": [
    "#Question 1: Import the Real Estate Sales Parquet File into a Spark DataFrame object \n",
    "\n",
    "df = spark.read.parquet(/Users/kennygreenefiles/Downloads/Real_Estate_Sales_2001-2020_GL.parquet)"
   ]
  },
  {
   "cell_type": "code",
   "execution_count": null,
   "id": "71edeb4d-a1b9-44e6-bb5d-a1c6d1ca0026",
   "metadata": {},
   "outputs": [],
   "source": [
    "#Question 2 (A): Display a list of the columns in the Spark DataFrame (1 Point)\n",
    "#Question 2 (B): print the first 5 rows (1 Point)\n",
    "\n",
    "print(df.columns)\n",
    "\n",
    "df.show(5)"
   ]
  },
  {
   "cell_type": "code",
   "execution_count": null,
   "id": "bd164ca6-42b6-4fdb-a43f-c8a42f742f91",
   "metadata": {},
   "outputs": [],
   "source": [
    "#Question 3: Convert the date_recorded column to a date field. Hint: You'll need to specify the date format for successful conversion. (1 Point)\n",
    "#Change the datatype\n",
    "\n",
    "from pyspark.sql.functions import to_date\n",
    "\n",
    "df = df.withColumn(\"date_recorded\", to_date(df[\"date_recorded\"], \"yyyy-MM-dd\"))\n",
    "\n"
   ]
  },
  {
   "cell_type": "code",
   "execution_count": null,
   "id": "473c0620-3116-49d7-a58b-0246d25fa69f",
   "metadata": {},
   "outputs": [],
   "source": [
    "#Question 4: Condo listings\n",
    "condo_count = df.filter(df[\"property_type\"] == \"Condo\").count()\n",
    "print(f\"Number of Condo listings: {condo_count}\")\n"
   ]
  },
  {
   "cell_type": "code",
   "execution_count": null,
   "id": "10ec97a4-3c3b-4506-a8f9-804d174ebcbd",
   "metadata": {},
   "outputs": [],
   "source": [
    "#Question 5: What is the average sales price by property_type, sorted by most expensive to least expensive?\n",
    "\n",
    "from pyspark.sql.functions import avg\n",
    "#aggregate with the group by, make sure to alias avg price\n",
    "avg_price = df.groupBy(\"property_type\").agg(avg(\"sales_price\").alias(\"average_price\"))\n",
    "avg_price.orderBy(\"average_price\", ascending=False).show()\n"
   ]
  },
  {
   "cell_type": "code",
   "execution_count": null,
   "id": "2262cdfb-069f-459e-9a8d-fbcadf175c75",
   "metadata": {},
   "outputs": [],
   "source": [
    "#Question 6: How many properties sold for higher than their assessed value? \n",
    "\n",
    "higher_sales_count = df.filter(df[\"sales_price\"] > df[\"assessed_value\"]).count()\n",
    "print(f\"Properties sold higher than assessed value: {higher_sales_count}\")\n"
   ]
  },
  {
   "cell_type": "code",
   "execution_count": null,
   "id": "33cd1846-3857-419e-bb14-9f7fd9945d52",
   "metadata": {},
   "outputs": [],
   "source": [
    "#Question 7: How have real estate sale prices changed over time?\n",
    "#Interpretation of question/results (1 Point)\n",
    "#Correct usage of PySpark to answer question (1 Point)\n",
    "\n",
    "from pyspark.sql.functions import year\n",
    "\n",
    "price_trend = df.groupBy(year(\"date_recorded\").alias(\"year\")).agg(avg(\"sales_price\").alias(\"average_price\"))\n",
    "price_trend.orderBy(\"year\").show()\n"
   ]
  }
 ],
 "metadata": {
  "kernelspec": {
   "display_name": "anaconda-ai-2024.04-py310",
   "language": "python",
   "name": "conda-env-anaconda-ai-2024.04-py310-py"
  },
  "language_info": {
   "codemirror_mode": {
    "name": "ipython",
    "version": 3
   },
   "file_extension": ".py",
   "mimetype": "text/x-python",
   "name": "python",
   "nbconvert_exporter": "python",
   "pygments_lexer": "ipython3",
   "version": "3.10.13"
  }
 },
 "nbformat": 4,
 "nbformat_minor": 5
}
